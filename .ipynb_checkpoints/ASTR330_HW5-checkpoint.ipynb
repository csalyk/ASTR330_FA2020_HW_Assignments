{
 "cells": [
  {
   "cell_type": "markdown",
   "metadata": {},
   "source": [
    "## <font color=\"red\">Student name:</font>"
   ]
  },
  {
   "cell_type": "code",
   "execution_count": 1,
   "metadata": {},
   "outputs": [
    {
     "name": "stdout",
     "output_type": "stream",
     "text": [
      "Populating the interactive namespace from numpy and matplotlib\n"
     ]
    }
   ],
   "source": [
    "#Start all notebooks with this line.  It sets a lot of variables to values we want to use,\n",
    "#and reads in some important packages of routines, too.\n",
    "%pylab inline"
   ]
  },
  {
   "cell_type": "markdown",
   "metadata": {},
   "source": [
    "## Gaps and Migration of giant planets"
   ]
  },
  {
   "cell_type": "markdown",
   "metadata": {},
   "source": [
    "### 1(a): Large planets open gaps in disks and then become tied to the evolution of the disk (this is known as Type II migration). Thus, if the disk is evolving on the viscous timescale, the planet will also migrate on the viscous timescale. Based on the viscous disk evolution timescale discussed in ASTR 230, write an approximate expression for the speed of the migration for a giant planet which has formed a gap.  Note that it will be a function of distance from the star, and a few other parameters."
   ]
  },
  {
   "cell_type": "code",
   "execution_count": null,
   "metadata": {},
   "outputs": [],
   "source": []
  },
  {
   "cell_type": "markdown",
   "metadata": {},
   "source": [
    "<font color=\"red\">*Comments from instructor: (please do not remove this cell)*</font>"
   ]
  },
  {
   "cell_type": "markdown",
   "metadata": {},
   "source": [
    "### 1(b): Assume that every planetary system forms planets at 5 AU (just beyond the ice line) and then these planets migrate inwards on the viscous timescale. Then, at some random time, the gas in the disk instantly disappears and halts migration. If this happens in a huge set of planetary systems, what distribution of semi-major axes might  you expect to observe in planetary systems?  To answer this, either come up with a mathematical solution, or create a python simulation of this scenario to make a histogram of final planet semi-major axes."
   ]
  },
  {
   "cell_type": "code",
   "execution_count": null,
   "metadata": {},
   "outputs": [],
   "source": []
  },
  {
   "cell_type": "markdown",
   "metadata": {},
   "source": [
    "<font color=\"red\">*Comments from instructor:*</font>"
   ]
  },
  {
   "cell_type": "markdown",
   "metadata": {},
   "source": [
    "### 1(c): Compare this predicted distribution to that of extrasolar planets. Be sure to consider the (severe) biases in the discoveries of extrasolar planets. You can make your own up-to-date plot of the semi-major axis distribution, and many other correlations, starting at the link:\n",
    "http://exoplanets.org/plots"
   ]
  },
  {
   "cell_type": "code",
   "execution_count": null,
   "metadata": {},
   "outputs": [],
   "source": []
  },
  {
   "cell_type": "markdown",
   "metadata": {},
   "source": [
    "<font color=\"red\">*Comments from instructor:*</font>"
   ]
  },
  {
   "cell_type": "markdown",
   "metadata": {},
   "source": [
    "### 1(d): In what ways is the process suggested in part (b) realistic? In what ways is it not?"
   ]
  },
  {
   "cell_type": "code",
   "execution_count": null,
   "metadata": {},
   "outputs": [],
   "source": []
  },
  {
   "cell_type": "markdown",
   "metadata": {},
   "source": [
    "<font color=\"red\">*Comments from instructor:*</font>"
   ]
  },
  {
   "cell_type": "markdown",
   "metadata": {},
   "source": [
    "### 1(e): Add one or more additional feature/complication to your model or mathematical solution.  Discuss what you did, and what you learned."
   ]
  },
  {
   "cell_type": "code",
   "execution_count": null,
   "metadata": {},
   "outputs": [],
   "source": []
  },
  {
   "cell_type": "markdown",
   "metadata": {},
   "source": [
    "<font color=\"red\">*Comments from instructor:*</font>"
   ]
  },
  {
   "cell_type": "markdown",
   "metadata": {},
   "source": [
    "The distribution of extra-solar planets has a pile-up at small distances. "
   ]
  },
  {
   "cell_type": "markdown",
   "metadata": {},
   "source": [
    "### 1(f): Based on the discussion in the top right hand side of page 54 of the Armitage lecture notes, explain why you wouldn't necessarily expect migration to stop at the inner edge of a protoplanetary gas disk."
   ]
  },
  {
   "cell_type": "code",
   "execution_count": null,
   "metadata": {},
   "outputs": [],
   "source": []
  },
  {
   "cell_type": "markdown",
   "metadata": {},
   "source": [
    "<font color=\"red\">*Comments from instructor:*</font>"
   ]
  },
  {
   "cell_type": "markdown",
   "metadata": {},
   "source": [
    "At least three theories have been proposed to explain this pile-up (i.e., to explain why planetary migration {\\it stops} before the planet falls onto the star): trapping the exoplanet in an orbital resonance with\n",
    "the magnetospheric truncation radius, trapping the exoplanet in an orbital resonance with the dust sublimation radius, or tidal\n",
    "circularization (see Plavchan \\& Bilinski 2013 and references therein for more details and references)."
   ]
  },
  {
   "cell_type": "markdown",
   "metadata": {},
   "source": [
    "### 1(g): Magnetic fields may clear out the inner region of the disk, opening up a space between the disk and the star. The argument goes that the disk truncates where the rotation of the stellar magnetic fields (which equals the rotation of the star) is equal to the Keplarian angular rotation speed of the disk. Interior to this region, the magnetic fields drag the disk (or at least the ions in the disk) along at super-Keplarian speeds and they simply accrete inwards. T Tauri stars seem to rotate at 10\\% of the stellar breakup speed (the speed at which the outer layers are essentially in orbit). What is the truncation radius for the disk in this case? How does this compare with the locations of extrasolar planets?  Perform your calculation for a sun-like star, but making some reasonable assumptions, determine a general expression for the truncation radius as a function of stellar mass."
   ]
  },
  {
   "cell_type": "code",
   "execution_count": null,
   "metadata": {},
   "outputs": [],
   "source": []
  },
  {
   "cell_type": "markdown",
   "metadata": {},
   "source": [
    "<font color=\"red\">*Comments from instructor:*</font> "
   ]
  },
  {
   "cell_type": "markdown",
   "metadata": {},
   "source": [
    "### 1(h):  The so-called ``dust sublimation radius'' is the distance from the star within which silicate-based rocks like olivine are hot enough to vaporize.  Using reasonable assumptions, and assuming a sublimation temperature of 1500 K for silicate-based rocks, calculate the dust sublimation radius.  Perform your calculation for a sun-like star, but also derive a general expression which is a function of stellar mass."
   ]
  },
  {
   "cell_type": "code",
   "execution_count": null,
   "metadata": {},
   "outputs": [],
   "source": []
  },
  {
   "cell_type": "markdown",
   "metadata": {},
   "source": [
    "<font color=\"red\">*Comments from instructor:*</font>"
   ]
  },
  {
   "cell_type": "markdown",
   "metadata": {},
   "source": [
    "### 1(i):  The tidal circularization radius is the orbital radius at which the planetary orbit will circularize quickly due to tidal forces.  Ford \\& Rasio (2006) find that this radius is related to the Roche limit of the star.  Using the definition of Roche limit, determine how the tidal circularization radius scales with stellar mass."
   ]
  },
  {
   "cell_type": "code",
   "execution_count": null,
   "metadata": {},
   "outputs": [],
   "source": []
  },
  {
   "cell_type": "markdown",
   "metadata": {},
   "source": [
    "<font color=\"red\">*Comments from instructor:*</font>"
   ]
  },
  {
   "cell_type": "markdown",
   "metadata": {},
   "source": [
    "### 1(j): Make a plot of these three radii vs. stellar mass.  Since you didn't find the absolute value of the tidal circularization radius, just assume it's the same as the magnetic truncation radius for solar mass stars. Discuss how you might use these plots to determine what causes the pile-up of planets at small radii."
   ]
  },
  {
   "cell_type": "code",
   "execution_count": null,
   "metadata": {},
   "outputs": [],
   "source": []
  },
  {
   "cell_type": "markdown",
   "metadata": {},
   "source": [
    "<font color=\"red\">*Comments from instructor:*</font>"
   ]
  },
  {
   "cell_type": "markdown",
   "metadata": {},
   "source": [
    "## <font color=\"red\"> Grade </font>"
   ]
  },
  {
   "cell_type": "markdown",
   "metadata": {},
   "source": [
    "<font color=\"red\"> Calculations: </font>"
   ]
  },
  {
   "cell_type": "code",
   "execution_count": 2,
   "metadata": {},
   "outputs": [],
   "source": [
    "calculations_grade=0"
   ]
  },
  {
   "cell_type": "markdown",
   "metadata": {},
   "source": [
    "<font color=\"red\"> Concepts: </font>"
   ]
  },
  {
   "cell_type": "code",
   "execution_count": 3,
   "metadata": {},
   "outputs": [],
   "source": [
    "concepts_grade=0"
   ]
  },
  {
   "cell_type": "markdown",
   "metadata": {},
   "source": [
    "<font color=\"red\"> Communication: </font>"
   ]
  },
  {
   "cell_type": "code",
   "execution_count": 4,
   "metadata": {},
   "outputs": [],
   "source": [
    "communication_grade=0"
   ]
  },
  {
   "cell_type": "markdown",
   "metadata": {},
   "source": [
    "<font color=\"red\"> Total grade: </font>"
   ]
  },
  {
   "cell_type": "code",
   "execution_count": 5,
   "metadata": {},
   "outputs": [
    {
     "name": "stdout",
     "output_type": "stream",
     "text": [
      "0\n"
     ]
    }
   ],
   "source": [
    "print(calculations_grade+concepts_grade+communication_grade)"
   ]
  },
  {
   "cell_type": "code",
   "execution_count": null,
   "metadata": {},
   "outputs": [],
   "source": []
  }
 ],
 "metadata": {
  "kernelspec": {
   "display_name": "Python 3",
   "language": "python",
   "name": "python3"
  },
  "language_info": {
   "codemirror_mode": {
    "name": "ipython",
    "version": 3
   },
   "file_extension": ".py",
   "mimetype": "text/x-python",
   "name": "python",
   "nbconvert_exporter": "python",
   "pygments_lexer": "ipython3",
   "version": "3.7.3"
  }
 },
 "nbformat": 4,
 "nbformat_minor": 1
}
